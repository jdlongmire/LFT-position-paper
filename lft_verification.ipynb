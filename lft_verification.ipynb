{
 "cells": [
  {
   "cell_type": "markdown",
   "metadata": {},
   "source": [
    "# Logic Field Theory Verification Code\n",
    "\n",
    "This notebook verifies the lattice properties and Born rule for Logic Field Theory (LFT) as described in Appendix F of 'Logic Field Theory: A Foundational Program' (Longmire, 2025). It includes three tasks:\n",
    "\n",
    "1. **Distributivity Counter-example**: Confirms non-distributivity in a ℂ^4 lattice.\n",
    "2. **Orthomodularity Stress-test**: Verifies orthomodularity for 1,000 random cases.\n",
    "3. **Born Rule Tally**: Demonstrates uniform measure yields |ψ_i|^2 probabilities.\n",
    "\n",
    "## Dependencies\n",
    "- Python 3.8+\n",
    "- numpy\n",
    "- itertools\n",
    "- collections\n",
    "\n",
    "Install via:\n",
    "```bash\n",
    "pip install numpy\n",
    "```"
   ]
  },
  {
   "cell_type": "markdown",
   "metadata": {},
   "source": [
    "## 1. Distributivity Counter-example\n",
    "\n",
    "Verifies that the lattice fails distributivity: $L[(a \\land (b \\lor c))] \\neq L[(a \\land b) \\lor (a \\land c)]$ in ℂ^4."
   ]
  },
  {
   "cell_type": "code",
   "execution_count": null,
   "metadata": {},
   "outputs": [],
   "source": [
    "import numpy as np\n",
    "import itertools\n",
    "\n",
    "# Basis vectors in C^4\n",
    "E = np.eye(4)\n",
    "A = np.column_stack((E[:,0], E[:,1]))  # span{e1,e2}\n",
    "B = np.column_stack((E[:,0], E[:,2]))  # span{e1,e3}\n",
    "C = np.column_stack((E[:,2], E[:,3]))  # span{e3,e4}\n",
    "\n",
    "# Linear algebra helpers\n",
    "proj = lambda U: U @ np.linalg.inv(U.T.conj() @ U) @ U.T.conj()\n",
    "span = lambda *cols: np.linalg.qr(np.column_stack(cols))[0]\n",
    "inter = lambda U,V: span(*[u for u in U.T if np.allclose(proj(V)@u, u)])\n",
    "join = lambda U,V: span(*(list(U.T)+list(V.T)))\n",
    "\n",
    "def dim(U):\n",
    "    return 0 if U.size==0 else U.shape[1]\n",
    "\n",
    "left = inter(A, join(B,C))\n",
    "right = join(inter(A,B), inter(A,C))\n",
    "print(f\"dims: left={dim(left)}, right={dim(right)} (non-equal => no distributivity)\")"
   ]
  },
  {
   "cell_type": "markdown",
   "metadata": {},
   "source": [
    "**Expected Output**: `dims: left=2, right=1 (non-equal => no distributivity)`\n",
    "\n",
    "This confirms the lattice is non-distributive, as the dimensions differ."
   ]
  },
  {
   "cell_type": "markdown",
   "metadata": {},
   "source": [
    "## 2. Orthomodularity Stress-test (1,000 trials)\n",
    "\n",
    "Tests orthomodularity: for $X \\subseteq Y$, $Y = X \\lor (Y \\land X^\\perp)$ in ℂ^4 over 1,000 random cases."
   ]
  },
  {
   "cell_type": "code",
   "execution_count": null,
   "metadata": {},
   "outputs": [],
   "source": [
    "import numpy.random as rng\n",
    "rng.seed(0)\n",
    "\n",
    "for _ in range(1000):\n",
    "    r = lambda k: np.linalg.qr(rng.randn(4,k))[0]\n",
    "    X = r(rng.randint(1,3))          # 1-2-D subspace\n",
    "    Y = span(X, r(rng.randint(1,3))) # force X ⊆ Y\n",
    "    Xc = span(*[v for v in r(4) if np.allclose(X.T.conj()@v,0)])\n",
    "    test = join(X, inter(Y, Xc))\n",
    "    assert dim(test)==dim(Y), \"orthomodularity failed\"\n",
    "print(\"orthomodularity passed 1000 random cases\")"
   ]
  },
  {
   "cell_type": "markdown",
   "metadata": {},
   "source": [
    "**Expected Output**: `orthomodularity passed 1000 random cases`\n",
    "\n",
    "This confirms the lattice is orthomodular."
   ]
  },
  {
   "cell_type": "markdown",
   "metadata": {},
   "source": [
    "## 3. Toy Born-rule Tally\n",
    "\n",
    "Demonstrates that a uniform measure on microstates yields Born rule probabilities |ψ_i|^2 for a toy state."
   ]
  },
  {
   "cell_type": "code",
   "execution_count": null,
   "metadata": {},
   "outputs": [],
   "source": [
    "amps = np.array([1/2, np.sqrt(3)/2, 0])\n",
    "amps /= np.linalg.norm(amps)\n",
    "probs = np.abs(amps)**2                   # [0.25, 0.75, 0]\n",
    "N = 1000\n",
    "micro = [i for i,p in enumerate(probs) for _ in range(int(round(p*N)))]\n",
    "from collections import Counter\n",
    "freqs = Counter(micro)\n",
    "print({i: freqs[i]/len(micro) for i in range(3)})"
   ]
  },
  {
   "cell_type": "markdown",
   "metadata": {},
   "source": [
    "**Expected Output**: `{0: 0.25, 1: 0.75, 2: 0.0}`\n",
    "\n",
    "This matches the Born rule probabilities |ψ_i|^2, confirming the uniform measure’s validity."
   ]
  },
  {
   "cell_type": "markdown",
   "metadata": {},
   "source": [
    "## Citation\n",
    "\n",
    "If you use this code, please cite:\n",
    "```bibtex\n",
    "@article{longmire2025,\n",
    "  author = {Longmire, J. D.},\n",
    "  title = {Logic Field Theory: A Foundational Program},\n",
    "  journal = {arXiv preprint},\n",
    "  year = {2025},\n",
    "  url = {https://github.com/jdlongmire/LFT-position-paper}\n",
    "}\n",
    "```"
   ]
  }
 ],
 "metadata": {
  "kernelspec": {
   "display_name": "Python 3",
   "language": "python",
   "name": "python3"
  },
  "language_info": {
   "codemirror_mode": {
    "name": "ipython",
    "version": 3
   },
   "file_extension": ".py",
   "mimetype": "text/x-python",
   "name": "python",
   "nbconvert_exporter": "python",
   "pygments_lexer": "ipython3",
   "version": "3.8.0"
  }
 },
 "nbformat": 4,
 "nbformat_minor": 4
}